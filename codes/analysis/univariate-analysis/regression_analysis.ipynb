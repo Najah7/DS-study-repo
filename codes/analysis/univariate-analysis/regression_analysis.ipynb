{
 "cells": [
  {
   "cell_type": "code",
   "execution_count": 4,
   "metadata": {},
   "outputs": [
    {
     "data": {
      "text/plain": [
       "array([19.4202363 , 17.97488856, 19.9402556 , 19.96319762, 19.84084014])"
      ]
     },
     "execution_count": 4,
     "metadata": {},
     "output_type": "execute_result"
    }
   ],
   "source": [
    "\"\"\"\n",
    "単変量解析　単回帰分析\n",
    "\"\"\"\n",
    "import numpy as np\n",
    "import pandas as pd\n",
    "import matplotlib.pyplot as plt\n",
    "import seaborn as sns\n",
    "import japanize_matplotlib\n",
    "\n",
    "from scipy import stats\n",
    "import warnings\n",
    "\n",
    "import statsmodels.api as sm\n",
    "\n",
    "warnings.filterwarnings('ignore')\n",
    "\n",
    "%matplotlib inline\n",
    "plt.style.use('bmh') # matplotlib のスタイルの設定\n",
    "\n",
    "df = pd.read_csv('../../../data/dummy_data/auto-mpg.csv')\n",
    "\n",
    "# 回帰分析\n",
    "\n",
    "# 目的変数\n",
    "y = df['MPG']\n",
    "\n",
    "# 説明変数\n",
    "x = df['Weight']\n",
    "\n",
    "# 乱数の固定\n",
    "# NOTE:乱数によって、結果が変わるので、固定している\n",
    "#       smの裏で使われているnampyの乱数を固定している\n",
    "np.random.seed(0)\n",
    "\n",
    "# モデルの作成\n",
    "# NOTE: add_constant：切片を追加する関数\n",
    "# NOTE: OLS（Ordinary Least Squares）：最小二乗法\n",
    "simple_ols = sm.OLS(y, sm.add_constant(x))\n",
    "\n",
    "# 分析を実行\n",
    "result = simple_ols.fit()\n",
    "\n",
    "# NOTE: R-squared：決定係数。モデル制度を確認。最大１\n",
    "# NOTE: Adj. R-squared：自由度調整済み決定係数。説明変数が増えたときに使う\n",
    "# NOTE: const：切片\n",
    "# NOTE: Weight：重み(回帰係数)\n",
    "result.summary()\n",
    "\n",
    "# NOTE:帰無仮説：重みは０。対立仮説：重みは０ではない（何かしらの関係性がある。）\n",
    "result.pvalues\n",
    "\n",
    "# 予測\n",
    "pred = result.predict()\n",
    "pred[:5]"
   ]
  }
 ],
 "metadata": {
  "kernelspec": {
   "display_name": "Python 3",
   "language": "python",
   "name": "python3"
  },
  "language_info": {
   "codemirror_mode": {
    "name": "ipython",
    "version": 3
   },
   "file_extension": ".py",
   "mimetype": "text/x-python",
   "name": "python",
   "nbconvert_exporter": "python",
   "pygments_lexer": "ipython3",
   "version": "3.8.10"
  },
  "orig_nbformat": 4
 },
 "nbformat": 4,
 "nbformat_minor": 2
}
