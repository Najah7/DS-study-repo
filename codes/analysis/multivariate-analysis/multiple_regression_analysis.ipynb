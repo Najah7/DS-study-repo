{
 "cells": [
  {
   "cell_type": "code",
   "execution_count": 18,
   "metadata": {},
   "outputs": [
    {
     "data": {
      "text/plain": [
       "const    0.000000e+00\n",
       "x1       3.212169e-01\n",
       "x2       2.973318e-01\n",
       "x3       9.774501e-01\n",
       "x4       1.416190e-21\n",
       "x5       4.038303e-01\n",
       "x6       1.410428e-37\n",
       "dtype: float64"
      ]
     },
     "execution_count": 18,
     "metadata": {},
     "output_type": "execute_result"
    }
   ],
   "source": [
    "\"\"\"\n",
    "多変量解析　重回帰分析\n",
    "\"\"\"\n",
    "import numpy as np\n",
    "import pandas as pd\n",
    "import matplotlib.pyplot as plt\n",
    "import seaborn as sns\n",
    "import japanize_matplotlib\n",
    "\n",
    "from scipy import stats\n",
    "import warnings\n",
    "\n",
    "import statsmodels.api as sm\n",
    "\n",
    "warnings.filterwarnings('ignore')\n",
    "\n",
    "%matplotlib inline\n",
    "plt.style.use('bmh') # matplotlib のスタイルの設定\n",
    "\n",
    "df = pd.read_csv('../../../data/dummy_data/auto-mpg.csv')\n",
    "\n",
    "# 標準化(平均値0, 標準偏差1に)\n",
    "# NOTE: 説明変数のスケールをそろえるために標準化を行う\n",
    "#       スケール：最小値から最大値までの範囲のこと\n",
    "#       スケールが異なる場合：スケールが大きい変数の影響が大きくなり、小さい変数の影響が小さくなる。\n",
    "\n",
    "from sklearn.preprocessing import StandardScaler\n",
    "\n",
    "scaler = StandardScaler()\n",
    "\n",
    "# 説明変数\n",
    "# NOTE: MPG：目的変数なので除外。Origin：文字列なので除外\n",
    "# axis(軸): 0:行方向, 1:列方向\n",
    "x = df.drop(['MPG', 'Origin'], axis=1)\n",
    "\n",
    "# 目的変数\n",
    "y = df['MPG']\n",
    "\n",
    "# 標準化\n",
    "# NOTE: fit: データの平均値と標準偏差を計算。transform: 標準化\n",
    "# NOTE:numpy.ndarrayに変換される\n",
    "x_scaled =  scaler.fit_transform(x)\n",
    "\n",
    "# モデル作成\n",
    "multi_ols = sm.OLS(y, sm.add_constant(x_scaled))\n",
    "\n",
    "# 分析\n",
    "result = multi_ols.fit()\n",
    "\n",
    "# 結果を表示\n",
    "result.summary()\n",
    "\n",
    "# 自由度調整済み決定係数\n",
    "result.rsquared_adj\n",
    "\n",
    "# 偏回帰係数\n",
    "# HACK: 回帰係数と偏回帰係数の違いや求めた方の違いなど調べて\n",
    "# NOTE: 基本的には、軽い分析するだけっだったら、偏回帰係数を見れば事足りるので、とりあえず先に進む\n",
    "result.params\n",
    "\n",
    "# p値\n",
    "# NOTE: 重み（係数）が0という帰無仮説の検定のp値\n",
    "result.pvalues\n",
    "\n",
    "# t値\n",
    "result.tvalues\n",
    "\n",
    "# "
   ]
  }
 ],
 "metadata": {
  "kernelspec": {
   "display_name": "Python 3",
   "language": "python",
   "name": "python3"
  },
  "language_info": {
   "codemirror_mode": {
    "name": "ipython",
    "version": 3
   },
   "file_extension": ".py",
   "mimetype": "text/x-python",
   "name": "python",
   "nbconvert_exporter": "python",
   "pygments_lexer": "ipython3",
   "version": "3.8.10"
  },
  "orig_nbformat": 4
 },
 "nbformat": 4,
 "nbformat_minor": 2
}
