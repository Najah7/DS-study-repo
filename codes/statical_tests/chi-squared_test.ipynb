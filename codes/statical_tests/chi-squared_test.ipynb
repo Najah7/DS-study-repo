{
 "cells": [
  {
   "cell_type": "code",
   "execution_count": 1,
   "metadata": {},
   "outputs": [
    {
     "data": {
      "text/plain": [
       "0.7494647665797038"
      ]
     },
     "execution_count": 1,
     "metadata": {},
     "output_type": "execute_result"
    }
   ],
   "source": [
    "\"\"\"\n",
    "カイ二乗検定\n",
    "\"\"\"\n",
    "\n",
    "import numpy as np\n",
    "import pandas as pd\n",
    "import matplotlib.pyplot as plt\n",
    "import seaborn as sns\n",
    "import japanize_matplotlib\n",
    "\n",
    "from scipy import stats\n",
    "import warnings\n",
    "\n",
    "from helpers import display_two_histograms\n",
    "\n",
    "warnings.filterwarnings('ignore')\n",
    "\n",
    "%matplotlib inline\n",
    "plt.style.use('bmh') # matplotlib のスタイルの設定\n",
    "\n",
    "df = pd.read_csv('../../data/simple_data/sample_04.csv')\n",
    "\n",
    "# クロス集計\n",
    "crosstab = pd.crosstab(df['性別'], df['サンドイッチ'])\n",
    "crosstab\n",
    "\n",
    "# NOTE:corrected：Yates の補正を行うかどうか\n",
    "# NOTE：chi2：カイ二乗値\n",
    "# NOTE: p：p 値\n",
    "# NOTE: dof：自由度\n",
    "# NOTE: ef：期待度数\n",
    "\n",
    "chi2, p, dof, ef = stats.chi2_contingency(crosstab, correction=False)\n",
    "p"
   ]
  }
 ],
 "metadata": {
  "kernelspec": {
   "display_name": "Python 3",
   "language": "python",
   "name": "python3"
  },
  "language_info": {
   "codemirror_mode": {
    "name": "ipython",
    "version": 3
   },
   "file_extension": ".py",
   "mimetype": "text/x-python",
   "name": "python",
   "nbconvert_exporter": "python",
   "pygments_lexer": "ipython3",
   "version": "3.8.10"
  },
  "orig_nbformat": 4
 },
 "nbformat": 4,
 "nbformat_minor": 2
}
