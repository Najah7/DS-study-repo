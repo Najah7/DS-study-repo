{
 "cells": [
  {
   "cell_type": "code",
   "execution_count": null,
   "metadata": {},
   "outputs": [],
   "source": [
    "import pandas as pd\n",
    "df = pd.read_csv('../data/dummy_data/hotel_reviews.csv')\n",
    "\n",
    "import matplotlib.pyplot as plt\n",
    "import japanize_matplotlib\n",
    "\n",
    "\n",
    "# レイアウト\n",
    "plt.rcParams['figure.figsize'] = 10, 6\n",
    "\n",
    "# グラフのタイトル\n",
    "plt.title('タイトル')\n",
    "\n",
    "# グラフの描画\n",
    "\n",
    "\n",
    "# 文字が重ならないようにする設定\n",
    "plt.tight_layout(); \n"
   ]
  }
 ],
 "metadata": {
  "language_info": {
   "name": "python"
  },
  "orig_nbformat": 4
 },
 "nbformat": 4,
 "nbformat_minor": 2
}
