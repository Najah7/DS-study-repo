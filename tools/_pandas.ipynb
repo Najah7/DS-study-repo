{
 "cells": [
  {
   "cell_type": "code",
   "execution_count": 3,
   "metadata": {},
   "outputs": [
    {
     "name": "stdout",
     "output_type": "stream",
     "text": [
      "<class 'pandas.core.frame.DataFrame'>\n",
      "RangeIndex: 10000 entries, 0 to 9999\n",
      "Data columns (total 14 columns):\n",
      " #   Column         Non-Null Count  Dtype \n",
      "---  ------         --------------  ----- \n",
      " 0   性別             10000 non-null  object\n",
      " 1   年齢             10000 non-null  int64 \n",
      " 2   個人/グループ        10000 non-null  object\n",
      " 3   旅行の目的          10000 non-null  object\n",
      " 4   Wifi設備         10000 non-null  int64 \n",
      " 5   送迎の便利さ         10000 non-null  int64 \n",
      " 6   オンライン予約のしやすさ   10000 non-null  int64 \n",
      " 7   ホテルの立地         10000 non-null  int64 \n",
      " 8   食事の満足度         10000 non-null  int64 \n",
      " 9   滞在時の快適さ        10000 non-null  int64 \n",
      " 10  チェックイン・アウトの接客  10000 non-null  int64 \n",
      " 11  その他のサービス       10000 non-null  int64 \n",
      " 12  清潔さ            10000 non-null  int64 \n",
      " 13  満足度            10000 non-null  int64 \n",
      "dtypes: int64(11), object(3)\n",
      "memory usage: 1.1+ MB\n"
     ]
    },
    {
     "data": {
      "text/plain": [
       "性別               0\n",
       "年齢               0\n",
       "個人/グループ          0\n",
       "旅行の目的            0\n",
       "Wifi設備           0\n",
       "送迎の便利さ           0\n",
       "オンライン予約のしやすさ     0\n",
       "ホテルの立地           0\n",
       "食事の満足度           0\n",
       "滞在時の快適さ          0\n",
       "チェックイン・アウトの接客    0\n",
       "その他のサービス         0\n",
       "清潔さ              0\n",
       "満足度              0\n",
       "dtype: int64"
      ]
     },
     "execution_count": 3,
     "metadata": {},
     "output_type": "execute_result"
    }
   ],
   "source": [
    "import pandas as pd\n",
    "\n",
    "df = pd.read_csv('../data/dummy_data/hotel_reviews.csv')\n",
    "\n",
    "# DataFrameの確認系\n",
    "\n",
    "#　先頭の5行を表示\n",
    "df.head(5)\n",
    "\n",
    "# 末尾\n",
    "df.tail(5)\n",
    "\n",
    "# サンプルサイズ\n",
    "df.shape\n",
    "\n",
    "# データの詳細\n",
    "df.info()\n",
    "\n",
    "# 欠損地を調べる\n",
    "# NOTE: isnullが欠損地をTrueにして返す。\n",
    "# NOTE: sumでTrueの数をカウントしている。\n",
    "df.isnull().sum()"
   ]
  }
 ],
 "metadata": {
  "kernelspec": {
   "display_name": "myenv",
   "language": "python",
   "name": "python3"
  },
  "language_info": {
   "codemirror_mode": {
    "name": "ipython",
    "version": 3
   },
   "file_extension": ".py",
   "mimetype": "text/x-python",
   "name": "python",
   "nbconvert_exporter": "python",
   "pygments_lexer": "ipython3",
   "version": "3.8.10"
  },
  "orig_nbformat": 4
 },
 "nbformat": 4,
 "nbformat_minor": 2
}
